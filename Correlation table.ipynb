{
 "cells": [
  {
   "cell_type": "code",
   "execution_count": 1,
   "metadata": {},
   "outputs": [],
   "source": [
    "import numpy as np\n",
    "import matplotlib.pyplot as plt\n",
    "import pandas as pd\n",
    "from scipy.stats.stats import pearsonr\n",
    "import pingouin as pg\n",
    "plt.rc('font',family='Times New Roman')\n",
    "\n",
    "name = ['SSE.csv', 'HANGSENG.csv', 'SP500.csv', 'SENSEX.csv', 'KOSPI.csv', 'NIKKEI.csv', 'EURONEXT.csv']"
   ]
  },
  {
   "cell_type": "code",
   "execution_count": 2,
   "metadata": {},
   "outputs": [
    {
     "name": "stderr",
     "output_type": "stream",
     "text": [
      "c:\\users\\виктор\\appdata\\local\\programs\\python\\python37-32\\lib\\site-packages\\outdated\\utils.py:18: OutdatedPackageWarning: The package pingouin is out of date. Your version is 0.3.3, the latest is 0.3.7.\n",
      "Set the environment variable OUTDATED_IGNORE=1 to disable these warnings.\n",
      "  **kwargs\n"
     ]
    },
    {
     "name": "stdout",
     "output_type": "stream",
     "text": [
      "            SSE HANGSENG   SP500 SENSEX  KOSPI NIKKEI EURONEXT\n",
      "SSE           -      ***                                      \n",
      "HANGSENG  0.586        -            ***    ***      *         \n",
      "SP500     0.181    0.065       -                           ***\n",
      "SENSEX    0.203     0.51  -0.036      -     **                \n",
      "KOSPI     0.136    0.524   0.106  0.433      -      *         \n",
      "NIKKEI    0.086    0.339   0.134  0.228  0.342      -         \n",
      "EURONEXT   0.08     0.07   0.625  0.204  0.273  0.004        -\n"
     ]
    }
   ],
   "source": [
    "prices_1 = pd.read_csv(name[0], index_col=0, parse_dates=True, na_values='.',infer_datetime_format=True,squeeze=True).fillna(method ='pad')\n",
    "index_name=''\n",
    "for j in range(len(name[0])-4):\n",
    "\tindex_name = index_name + name[0][j]\n",
    "prices_1.drop(['Open', 'High', 'Low', 'Adj Close', 'Volume'], axis='columns', inplace=True)\n",
    "weekly_return = prices_1.pct_change(1)\n",
    "weekly_return.rename(columns={'Close': index_name}, inplace=True)\n",
    "\n",
    "for i in range(1,len(name)):\n",
    "\tprices_1 = pd.read_csv(name[i], index_col=0, parse_dates=True, na_values='.',infer_datetime_format=True,squeeze=True).fillna(method ='pad')\n",
    "\tindex_name=''\n",
    "\tfor j in range(len(name[i])-4):\n",
    "\t\tindex_name = index_name + name[i][j]\n",
    "\tprices_1.drop(['Open', 'High', 'Low', 'Adj Close', 'Volume'], axis='columns', inplace=True)\n",
    "\tweekly_return[index_name] = prices_1.pct_change(1)\n",
    "\n",
    "weekly_return=weekly_return.iloc[679:731]\n",
    "period = \"2013/01/05-2013/12/28\"\n",
    "\n",
    "print(weekly_return[['SSE', 'HANGSENG', 'SP500', 'SENSEX', 'KOSPI', 'NIKKEI', 'EURONEXT']].rcorr())"
   ]
  },
  {
   "cell_type": "code",
   "execution_count": 3,
   "metadata": {},
   "outputs": [
    {
     "name": "stdout",
     "output_type": "stream",
     "text": [
      "             SSE HANGSENG  SP500 SENSEX  KOSPI NIKKEI EURONEXT\n",
      "SSE            -      ***            **    ***    ***         \n",
      "HANGSENG   0.686        -           ***    ***    ***        *\n",
      "SP500     -0.152    0.145      -     **                    ***\n",
      "SENSEX     0.394    0.609  0.402      -    ***      *      ***\n",
      "KOSPI      0.556      0.8  0.101  0.499      -    ***        *\n",
      "NIKKEI     0.468    0.776  0.039  0.355  0.801      -         \n",
      "EURONEXT   0.032    0.348  0.799  0.591  0.307  0.282        -\n"
     ]
    }
   ],
   "source": [
    "prices_1 = pd.read_csv(name[0], index_col=0, parse_dates=True, na_values='.',infer_datetime_format=True,squeeze=True).fillna(method ='pad')\n",
    "index_name=''\n",
    "for j in range(len(name[0])-4):\n",
    "\tindex_name = index_name + name[0][j]\n",
    "prices_1.drop(['Open', 'High', 'Low', 'Adj Close', 'Volume'], axis='columns', inplace=True)\n",
    "weekly_return = prices_1.pct_change(1)\n",
    "weekly_return.rename(columns={'Close': index_name}, inplace=True)\n",
    "\n",
    "for i in range(1,len(name)):\n",
    "\tprices_1 = pd.read_csv(name[i], index_col=0, parse_dates=True, na_values='.',infer_datetime_format=True,squeeze=True).fillna(method ='pad')\n",
    "\tindex_name=''\n",
    "\tfor j in range(len(name[i])-4):\n",
    "\t\tindex_name = index_name + name[i][j]\n",
    "\tprices_1.drop(['Open', 'High', 'Low', 'Adj Close', 'Volume'], axis='columns', inplace=True)\n",
    "\tweekly_return[index_name] = prices_1.pct_change(1)\n",
    "\n",
    "weekly_return=weekly_return.iloc[418:470]\n",
    "graph_name = \"2008/01/05-2008/12/27\"\n",
    "\n",
    "print(weekly_return[['SSE', 'HANGSENG', 'SP500', 'SENSEX', 'KOSPI', 'NIKKEI', 'EURONEXT']].rcorr())"
   ]
  }
 ],
 "metadata": {
  "kernelspec": {
   "display_name": "Python 3",
   "language": "python",
   "name": "python3"
  },
  "language_info": {
   "codemirror_mode": {
    "name": "ipython",
    "version": 3
   },
   "file_extension": ".py",
   "mimetype": "text/x-python",
   "name": "python",
   "nbconvert_exporter": "python",
   "pygments_lexer": "ipython3",
   "version": "3.7.2"
  }
 },
 "nbformat": 4,
 "nbformat_minor": 2
}
